{
 "cells": [
  {
   "cell_type": "code",
   "execution_count": 3,
   "metadata": {},
   "outputs": [],
   "source": [
    "import os\n",
    "from taiga import TaigaAPI\n",
    "import pandas as pd\n",
    "from dotenv import load_dotenv\n",
    "from requests.auth import HTTPBasicAuth"
   ]
  },
  {
   "cell_type": "code",
   "execution_count": 4,
   "metadata": {},
   "outputs": [],
   "source": [
    "load_dotenv()\n",
    "\n",
    "taiga_host = os.getenv(\"TAIGA_HOST\")\n",
    "taiga_user = os.getenv(\"TAIGA_USERNAME\")\n",
    "taiga_password = os.getenv(\"TAIGA_PASSWORD\")"
   ]
  },
  {
   "cell_type": "code",
   "execution_count": 5,
   "metadata": {},
   "outputs": [
    {
     "name": "stdout",
     "output_type": "stream",
     "text": [
      "http://209.38.145.133:9000/ taiga-admin admin\n"
     ]
    }
   ],
   "source": [
    "\"\"\"authenticates with taiga and returns the api object\"\"\"\n",
    "def get_taiga_api():\n",
    "    api = TaigaAPI(host=taiga_host)\n",
    "    api.auth(username=taiga_user, password=taiga_password)\n",
    "    print(taiga_host, taiga_user, taiga_password)\n",
    "    print(\"Connected to Taiga\")\n",
    "    return api\n",
    "print(taiga_host, taiga_user, taiga_password)"
   ]
  },
  {
   "cell_type": "code",
   "execution_count": 8,
   "metadata": {},
   "outputs": [
    {
     "name": "stdout",
     "output_type": "stream",
     "text": [
      "http://209.38.145.133:9000/ taiga-admin admin\n",
      "Connected to Taiga\n"
     ]
    },
    {
     "data": {
      "text/html": [
       "<div>\n",
       "<style scoped>\n",
       "    .dataframe tbody tr th:only-of-type {\n",
       "        vertical-align: middle;\n",
       "    }\n",
       "\n",
       "    .dataframe tbody tr th {\n",
       "        vertical-align: top;\n",
       "    }\n",
       "\n",
       "    .dataframe thead th {\n",
       "        text-align: right;\n",
       "    }\n",
       "</style>\n",
       "<table border=\"1\" class=\"dataframe\">\n",
       "  <thead>\n",
       "    <tr style=\"text-align: right;\">\n",
       "      <th></th>\n",
       "      <th>id</th>\n",
       "      <th>name</th>\n",
       "      <th>description</th>\n",
       "      <th>total_tasks</th>\n",
       "      <th>total_user_stories</th>\n",
       "      <th>total_issues</th>\n",
       "    </tr>\n",
       "  </thead>\n",
       "  <tbody>\n",
       "    <tr>\n",
       "      <th>0</th>\n",
       "      <td>2</td>\n",
       "      <td>Sistema de Gestão Escolar</td>\n",
       "      <td>Plataforma para gerenciamento de alunos, turma...</td>\n",
       "      <td>2</td>\n",
       "      <td>2</td>\n",
       "      <td>0</td>\n",
       "    </tr>\n",
       "  </tbody>\n",
       "</table>\n",
       "</div>"
      ],
      "text/plain": [
       "   id                       name  \\\n",
       "0   2  Sistema de Gestão Escolar   \n",
       "\n",
       "                                         description  total_tasks  \\\n",
       "0  Plataforma para gerenciamento de alunos, turma...            2   \n",
       "\n",
       "   total_user_stories  total_issues  \n",
       "0                   2             0  "
      ]
     },
     "execution_count": 8,
     "metadata": {},
     "output_type": "execute_result"
    }
   ],
   "source": [
    "\"\"\"return a pandas dataframe with the taiga data\"\"\"\n",
    "def get_taiga_data():\n",
    "    api = get_taiga_api()\n",
    "    projects = api.projects.list()\n",
    "    data = []\n",
    "    for project in projects:\n",
    "        data.append({\n",
    "            \"id\": project.id,\n",
    "            \"name\": project.name,\n",
    "            \"description\": project.description,\n",
    "            \"total_tasks\": len(api.tasks.list(project=project.id)),\n",
    "            \"total_user_stories\": len(api.user_stories.list(project=project.id)),\n",
    "            \"total_issues\": len(api.issues.list(project=project.id))\n",
    "        })\n",
    "    return pd.DataFrame(data)\n",
    "\n",
    "data = get_taiga_data()\n",
    "data"
   ]
  }
 ],
 "metadata": {
  "kernelspec": {
   "display_name": "Python 3",
   "language": "python",
   "name": "python3"
  },
  "language_info": {
   "codemirror_mode": {
    "name": "ipython",
    "version": 3
   },
   "file_extension": ".py",
   "mimetype": "text/x-python",
   "name": "python",
   "nbconvert_exporter": "python",
   "pygments_lexer": "ipython3",
   "version": "3.13.2"
  }
 },
 "nbformat": 4,
 "nbformat_minor": 2
}
